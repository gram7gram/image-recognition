{
  "nbformat": 4,
  "nbformat_minor": 0,
  "metadata": {
    "colab": {
      "name": "Untitled0.ipynb",
      "provenance": [],
      "collapsed_sections": [],
      "authorship_tag": "ABX9TyP6Te+3KyY4TnUFQzDQR+lM",
      "include_colab_link": true
    },
    "kernelspec": {
      "name": "python3",
      "display_name": "Python 3"
    }
  },
  "cells": [
    {
      "cell_type": "markdown",
      "metadata": {
        "id": "view-in-github",
        "colab_type": "text"
      },
      "source": [
        "<a href=\"https://colab.research.google.com/github/gram7gram/image-recognition/blob/main/Untitled0.ipynb\" target=\"_parent\"><img src=\"https://colab.research.google.com/assets/colab-badge.svg\" alt=\"Open In Colab\"/></a>"
      ]
    },
    {
      "cell_type": "code",
      "metadata": {
        "id": "AlFr3zNR6u8y"
      },
      "source": [
        "!pip install numpy mnist"
      ],
      "execution_count": null,
      "outputs": []
    },
    {
      "cell_type": "code",
      "metadata": {
        "id": "Jslzp76-7Dk3"
      },
      "source": [
        "import os\n",
        "import mnist\n",
        "import numpy as np\n",
        "from keras.models import Sequential\n",
        "from keras.layers import Dense\n",
        "from keras.utils import to_categorical"
      ],
      "execution_count": 4,
      "outputs": []
    },
    {
      "cell_type": "code",
      "metadata": {
        "id": "i5ulzYA97Iyy"
      },
      "source": [
        "trainImageSet = mnist.train_images() # [0,255] array\n",
        "trainLabelSet = mnist.train_labels()\n",
        "testImageSet = mnist.test_images() # [0,255] array\n",
        "testLabelSet = mnist.test_labels()"
      ],
      "execution_count": 5,
      "outputs": []
    },
    {
      "cell_type": "code",
      "metadata": {
        "id": "X1QhazoI74AD"
      },
      "source": [
        "# Normalize dataset from [0, 255] to [-0.5, 0.5]\n",
        "normalizedTrainImageSet = (trainImageSet  / 255) - 0.5\n",
        "normalizedTestImageSet = (testImageSet  / 255) - 0.5\n",
        "# Convert to keras format\n",
        "normalizedTrainLabelSet = to_categorical(trainLabelSet)\n",
        "normalizedTestLabelSet = to_categorical(testLabelSet)"
      ],
      "execution_count": 6,
      "outputs": []
    },
    {
      "cell_type": "code",
      "metadata": {
        "id": "qt-gU05R75g5"
      },
      "source": [
        "# Flatten 28x28 pixel array into single array [0, 784]\n",
        "normalizedTestImageSet = normalizedTestImageSet.reshape((-1, 28 * 28)) #10K rows, 784 cols\n",
        "normalizedTrainImageSet = normalizedTrainImageSet.reshape((-1, 28 * 28)) #60K rows, 784 cols"
      ],
      "execution_count": 7,
      "outputs": []
    },
    {
      "cell_type": "code",
      "metadata": {
        "id": "Mr4zjGBk7J_t"
      },
      "source": [
        "# for i in range(0, 5):\n",
        "#     img = np.array(trainImageSet[i], dtype='float')\n",
        "#     pixels = img.reshape((28,28))\n",
        "#     print(pixels)"
      ],
      "execution_count": 8,
      "outputs": []
    },
    {
      "cell_type": "code",
      "metadata": {
        "id": "VJeUEOak7sXL"
      },
      "source": [
        "# Create 3-layer NN\n",
        "model = Sequential()\n",
        "model.add(Dense(64, activation='relu', input_dim=784)) # Layer 1 corresponds to dataset length and 64 neurons\n",
        "model.add(Dense(64, activation='relu')) # Layer 2 magic and 64 neurons\n",
        "model.add(Dense(10, activation='softmax')) # Layer 3 corresponds to expected result length [0, 9]\n",
        "\n",
        "model.compile(optimizer='adam', loss='categorical_crossentropy', metrics=['accuracy'])"
      ],
      "execution_count": 10,
      "outputs": []
    },
    {
      "cell_type": "code",
      "metadata": {
        "id": "NpY-HgKw9-A9"
      },
      "source": [
        "# Train the NN\n",
        "model.fit(normalizedTrainImageSet, normalizedTrainLabelSet, epochs=5, batch_size=32)"
      ],
      "execution_count": null,
      "outputs": []
    },
    {
      "cell_type": "code",
      "metadata": {
        "id": "RAKR1IYo-iRm",
        "outputId": "c84f2287-4547-4340-ce36-660a892621a2",
        "colab": {
          "base_uri": "https://localhost:8080/"
        }
      },
      "source": [
        "# Verify trained NN\n",
        "model.evaluate(normalizedTestImageSet, normalizedTestLabelSet)"
      ],
      "execution_count": 13,
      "outputs": [
        {
          "output_type": "stream",
          "text": [
            "313/313 [==============================] - 0s 959us/step - loss: 0.1267 - accuracy: 0.9610\n"
          ],
          "name": "stdout"
        },
        {
          "output_type": "execute_result",
          "data": {
            "text/plain": [
              "[0.12672117352485657, 0.9610000252723694]"
            ]
          },
          "metadata": {
            "tags": []
          },
          "execution_count": 13
        }
      ]
    },
    {
      "cell_type": "code",
      "metadata": {
        "id": "_VhWT0er-3M3"
      },
      "source": [
        "# Save to file\n",
        "model.save('test.h5')"
      ],
      "execution_count": 14,
      "outputs": []
    },
    {
      "cell_type": "code",
      "metadata": {
        "id": "Ns5mGjRN_D5H",
        "outputId": "8e526bc4-9706-4172-d77f-f8b343991734",
        "colab": {
          "base_uri": "https://localhost:8080/"
        }
      },
      "source": [
        "# Run predictions\n",
        "predictions = model.predict(normalizedTestImageSet[:10])\n",
        "result = np.argmax(predictions, axis=1)\n",
        "print('Expected: %s' % testLabelSet[:10]) # Display expected numbers\n",
        "print('NN result: %s' % result) # Result should match expected numbers above"
      ],
      "execution_count": 20,
      "outputs": [
        {
          "output_type": "stream",
          "text": [
            "Expected: [7 2 1 0 4 1 4 9 5 9]\n",
            "NN result: [7 2 1 0 4 1 4 9 5 9]\n"
          ],
          "name": "stdout"
        }
      ]
    }
  ]
}